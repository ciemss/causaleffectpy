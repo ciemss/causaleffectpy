{
 "cells": [
  {
   "cell_type": "code",
   "execution_count": 1,
   "metadata": {},
   "outputs": [],
   "source": [
    "from causaleffect import *"
   ]
  },
  {
   "cell_type": "code",
   "execution_count": 2,
   "metadata": {},
   "outputs": [],
   "source": [
    "'''Define G (example in section 3.3 of paper \"Identifying Causal Effects with the R Package causaleffect\")'''\n",
    "G1 = createGraph([\"X<->Y\", \"Z->Y\", \"X->Z\", \"W->X\", \"W->Z\"])\n",
    "#plotGraph(G1)\n",
    "\n",
    "'''Define G2 (example Figure 1a of paper \"Identification of Joint Interventional \n",
    "Distributions in Recursive Semi-Markovian Causal Models\")'''\n",
    "G2 = createGraph([\"X->Y_1\", \"Y_2<->W_1\", \"W_1<->Y_1\", \"W_1->X\", \"W_2->Y_2\", \"W_2<->W_1\", \"X<->W_2\"])\n",
    "#plotGraph(G2)\n",
    "\n",
    "'''Define G2b (example Figure 1b of paper \"Identification of Joint Interventional \n",
    "Distributions in Recursive Semi-Markovian Causal Models\")'''\n",
    "G2b = G2.copy()\n",
    "G2b.add_edges([(3,4)])\n",
    "G2b.es[-1][\"confounding\"] = 0\n",
    "#plotGraph(G2b)\n",
    "\n",
    "'''Define G3a (example Figure 1a of paper \"Identification of Conditional\n",
    "Interventional Distributions\")'''\n",
    "G3a = createGraph([\"X->Z\", \"X<->Z\", \"Z->Y\"])\n",
    "#plotGraph(G3a)\n",
    "\n",
    "'''Define G3b (example Figure 1b of paper \"Identification of Conditional\n",
    "Interventional Distributions\")'''\n",
    "G3b = createGraph([\"X->Z\", \"X<->Z\", \"Z<-Y\"])\n",
    "#plotGraph(G3b)\n",
    "\n",
    "'''Define G3c (example Figure 1c of paper \"Identification of Conditional\n",
    "Interventional Distributions\")'''\n",
    "G3c = createGraph([\"X->Z\", \"X<->Z\", \"Z<-Y\", \"W->Y\"])\n",
    "#plotGraph(G3c)\n",
    "\n",
    "'''Define G7 (example Figure 7 of paper \"Identifying Causal Effects with the R Package causaleffect\")'''\n",
    "G7 = createGraph([\"X<->Y\", \"X->Z_1\", \"X<->Z_2\", \"X<-Z_2\", \"X<->Z_3\", \"Y<-Z_1\", \"Y<->Z_2\", \"Y<-Z_3\", \"Z_1<-Z_2\", \"Z_2->Z_3\"])\n",
    "#plotGraph(G7)\n",
    "\n",
    "'''Define G8 (example Figure 8 of paper \"Identifying Causal Effects with the R Package causaleffect\")'''\n",
    "G8 = createGraph([\"X->Y\", \"W->Y\", \"Z->X\", \"Z->W\"])\n",
    "#plotGraph(G8)"
   ]
  },
  {
   "cell_type": "code",
   "execution_count": 3,
   "metadata": {},
   "outputs": [
    {
     "data": {
      "image/svg+xml": [
       "<?xml version=\"1.0\" encoding=\"UTF-8\"?>\n",
       "<svg xmlns=\"http://www.w3.org/2000/svg\" xmlns:xlink=\"http://www.w3.org/1999/xlink\" width=\"300pt\" height=\"300pt\" viewBox=\"0 0 300 300\" version=\"1.1\">\n",
       "<defs>\n",
       "<g>\n",
       "<symbol overflow=\"visible\" id=\"glyph0-0\">\n",
       "<path style=\"stroke:none;\" d=\"M 1.75 0 L 1.75 -8.75 L 8.75 -8.75 L 8.75 0 Z M 1.96875 -0.21875 L 8.53125 -0.21875 L 8.53125 -8.53125 L 1.96875 -8.53125 Z M 1.96875 -0.21875 \"/>\n",
       "</symbol>\n",
       "<symbol overflow=\"visible\" id=\"glyph0-1\">\n",
       "<path style=\"stroke:none;\" d=\"M 0.0625 0 L 3.9375 -5.222656 L 0.519531 -10.023438 L 2.097656 -10.023438 L 3.917969 -7.453125 C 4.292969 -6.917969 4.5625 -6.503906 4.722656 -6.21875 C 4.945313 -6.578125 5.207031 -6.960938 5.515625 -7.363281 L 7.53125 -10.023438 L 8.976563 -10.023438 L 5.453125 -5.296875 L 9.25 0 L 7.609375 0 L 5.085938 -3.574219 C 4.945313 -3.777344 4.796875 -4 4.648438 -4.246094 C 4.421875 -3.878906 4.265625 -3.628906 4.171875 -3.492188 L 1.65625 0 Z M 0.0625 0 \"/>\n",
       "</symbol>\n",
       "<symbol overflow=\"visible\" id=\"glyph0-2\">\n",
       "<path style=\"stroke:none;\" d=\"M 3.902344 0 L 3.902344 -4.246094 L 0.0390625 -10.023438 L 1.65625 -10.023438 L 3.628906 -7 C 3.988281 -6.433594 4.328125 -5.867188 4.648438 -5.304688 C 4.945313 -5.824219 5.3125 -6.414063 5.742188 -7.074219 L 7.683594 -10.023438 L 9.226563 -10.023438 L 5.230469 -4.246094 L 5.230469 0 Z M 3.902344 0 \"/>\n",
       "</symbol>\n",
       "<symbol overflow=\"visible\" id=\"glyph0-3\">\n",
       "<path style=\"stroke:none;\" d=\"M 0.28125 0 L 0.28125 -1.230469 L 5.414063 -7.648438 C 5.777344 -8.101563 6.121094 -8.5 6.453125 -8.839844 L 0.859375 -8.839844 L 0.859375 -10.023438 L 8.039063 -10.023438 L 8.039063 -8.839844 L 2.414063 -1.886719 L 1.804688 -1.183594 L 8.203125 -1.183594 L 8.203125 0 Z M 0.28125 0 \"/>\n",
       "</symbol>\n",
       "<symbol overflow=\"visible\" id=\"glyph0-4\">\n",
       "<path style=\"stroke:none;\" d=\"M 2.828125 0 L 0.171875 -10.023438 L 1.53125 -10.023438 L 3.054688 -3.453125 C 3.214844 -2.761719 3.359375 -2.078125 3.480469 -1.402344 C 3.734375 -2.46875 3.882813 -3.085938 3.929688 -3.253906 L 5.835938 -10.023438 L 7.4375 -10.023438 L 8.875 -4.949219 C 9.230469 -3.6875 9.488281 -2.503906 9.652344 -1.402344 C 9.777344 -2.03125 9.945313 -2.757813 10.152344 -3.582031 L 11.722656 -10.023438 L 13.054688 -10.023438 L 10.308594 0 L 9.03125 0 L 6.917969 -7.636719 C 6.738281 -8.269531 6.632813 -8.664063 6.601563 -8.8125 C 6.496094 -8.351563 6.398438 -7.957031 6.308594 -7.636719 L 4.183594 0 Z M 2.828125 0 \"/>\n",
       "</symbol>\n",
       "</g>\n",
       "</defs>\n",
       "<g id=\"surface2\">\n",
       "<rect x=\"0\" y=\"0\" width=\"300\" height=\"300\" style=\"fill:rgb(100%,100%,100%);fill-opacity:1;stroke:none;\"/>\n",
       "<path style=\"fill:none;stroke-width:1;stroke-linecap:butt;stroke-linejoin:miter;stroke:rgb(0%,53.333333%,20%);stroke-opacity:1;stroke-miterlimit:10;\" d=\"M 150 260 C 191.492188 240.289063 225.445313 211.523438 247.929688 171.496094 \"/>\n",
       "<path style=\" stroke:none;fill-rule:nonzero;fill:rgb(0%,53.333333%,20%);fill-opacity:1;\" d=\"M 254.914063 159.054688 L 251.96875 173.765625 L 243.886719 169.226563 L 254.914063 159.054688 \"/>\n",
       "<path style=\"fill:none;stroke-width:1;stroke-linecap:butt;stroke-linejoin:miter;stroke:rgb(0%,53.333333%,20%);stroke-opacity:1;stroke-miterlimit:10;\" d=\"M 260 150 C 240.289063 191.492188 211.523438 225.445313 171.496094 247.929688 \"/>\n",
       "<path style=\" stroke:none;fill-rule:nonzero;fill:rgb(0%,53.333333%,20%);fill-opacity:1;\" d=\"M 159.054688 254.914063 L 169.226563 243.886719 L 173.765625 251.96875 L 159.054688 254.914063 \"/>\n",
       "<path style=\"fill:none;stroke-width:2.5;stroke-linecap:butt;stroke-linejoin:miter;stroke:rgb(0%,0%,100%);stroke-opacity:1;stroke-miterlimit:10;\" d=\"M 40 150 L 132.839844 242.839844 \"/>\n",
       "<path style=\" stroke:none;fill-rule:nonzero;fill:rgb(0%,0%,100%);fill-opacity:1;\" d=\"M 142.929688 252.929688 L 129.5625 246.117188 L 136.117188 239.5625 L 142.929688 252.929688 \"/>\n",
       "<path style=\"fill:none;stroke-width:2.5;stroke-linecap:butt;stroke-linejoin:miter;stroke:rgb(0%,0%,100%);stroke-opacity:1;stroke-miterlimit:10;\" d=\"M 260 150 L 64.265625 150 \"/>\n",
       "<path style=\" stroke:none;fill-rule:nonzero;fill:rgb(0%,0%,100%);fill-opacity:1;\" d=\"M 50 150 L 64.265625 145.363281 L 64.265625 154.636719 L 50 150 \"/>\n",
       "<path style=\"fill:none;stroke-width:2.5;stroke-linecap:butt;stroke-linejoin:miter;stroke:rgb(0%,0%,100%);stroke-opacity:1;stroke-miterlimit:10;\" d=\"M 150 40 L 242.839844 132.839844 \"/>\n",
       "<path style=\" stroke:none;fill-rule:nonzero;fill:rgb(0%,0%,100%);fill-opacity:1;\" d=\"M 252.929688 142.929688 L 239.5625 136.117188 L 246.117188 129.5625 L 252.929688 142.929688 \"/>\n",
       "<path style=\"fill:none;stroke-width:2.5;stroke-linecap:butt;stroke-linejoin:miter;stroke:rgb(0%,0%,100%);stroke-opacity:1;stroke-miterlimit:10;\" d=\"M 150 40 L 57.160156 132.839844 \"/>\n",
       "<path style=\" stroke:none;fill-rule:nonzero;fill:rgb(0%,0%,100%);fill-opacity:1;\" d=\"M 47.070313 142.929688 L 53.882813 129.5625 L 60.4375 136.117188 L 47.070313 142.929688 \"/>\n",
       "<path style=\"fill-rule:nonzero;fill:rgb(100%,0%,0%);fill-opacity:1;stroke-width:1;stroke-linecap:butt;stroke-linejoin:miter;stroke:rgb(0%,0%,0%);stroke-opacity:1;stroke-miterlimit:10;\" d=\"M 270 150 C 270 155.523438 265.523438 160 260 160 C 254.476563 160 250 155.523438 250 150 C 250 144.476563 254.476563 140 260 140 C 265.523438 140 270 144.476563 270 150 \"/>\n",
       "<path style=\"fill-rule:nonzero;fill:rgb(100%,0%,0%);fill-opacity:1;stroke-width:1;stroke-linecap:butt;stroke-linejoin:miter;stroke:rgb(0%,0%,0%);stroke-opacity:1;stroke-miterlimit:10;\" d=\"M 160 260 C 160 265.523438 155.523438 270 150 270 C 144.476563 270 140 265.523438 140 260 C 140 254.476563 144.476563 250 150 250 C 155.523438 250 160 254.476563 160 260 \"/>\n",
       "<path style=\"fill-rule:nonzero;fill:rgb(100%,0%,0%);fill-opacity:1;stroke-width:1;stroke-linecap:butt;stroke-linejoin:miter;stroke:rgb(0%,0%,0%);stroke-opacity:1;stroke-miterlimit:10;\" d=\"M 50 150 C 50 155.523438 45.523438 160 40 160 C 34.476563 160 30 155.523438 30 150 C 30 144.476563 34.476563 140 40 140 C 45.523438 140 50 144.476563 50 150 \"/>\n",
       "<path style=\"fill-rule:nonzero;fill:rgb(100%,0%,0%);fill-opacity:1;stroke-width:1;stroke-linecap:butt;stroke-linejoin:miter;stroke:rgb(0%,0%,0%);stroke-opacity:1;stroke-miterlimit:10;\" d=\"M 160 40 C 160 45.523438 155.523438 50 150 50 C 144.476563 50 140 45.523438 140 40 C 140 34.476563 144.476563 30 150 30 C 155.523438 30 160 34.476563 160 40 \"/>\n",
       "<g style=\"fill:rgb(0%,0%,0%);fill-opacity:1;\">\n",
       "  <use xlink:href=\"#glyph0-1\" x=\"255.34375\" y=\"180.023438\"/>\n",
       "</g>\n",
       "<g style=\"fill:rgb(0%,0%,0%);fill-opacity:1;\">\n",
       "  <use xlink:href=\"#glyph0-2\" x=\"145.367188\" y=\"290.023438\"/>\n",
       "</g>\n",
       "<g style=\"fill:rgb(0%,0%,0%);fill-opacity:1;\">\n",
       "  <use xlink:href=\"#glyph0-3\" x=\"35.757813\" y=\"180.023438\"/>\n",
       "</g>\n",
       "<g style=\"fill:rgb(0%,0%,0%);fill-opacity:1;\">\n",
       "  <use xlink:href=\"#glyph0-4\" x=\"143.386719\" y=\"70.023438\"/>\n",
       "</g>\n",
       "</g>\n",
       "</svg>\n"
      ],
      "text/plain": [
       "<igraph.drawing.Plot at 0x5012080>"
      ]
     },
     "execution_count": 3,
     "metadata": {
      "image/svg+xml": {
       "isolated": true
      }
     },
     "output_type": "execute_result"
    }
   ],
   "source": [
    "plotGraph(G1)"
   ]
  },
  {
   "cell_type": "code",
   "execution_count": 4,
   "metadata": {},
   "outputs": [
    {
     "name": "stdout",
     "output_type": "stream",
     "text": [
      "P(y|w, x, z)\n"
     ]
    }
   ],
   "source": [
    "#expected input: ID({'Y'}, {'X'}, G1, verbose=False)\n",
    "#expected output: \\sum_{w, z}P(w)P(z|w, x)\\\\left(\\sum_{x}P(x|w)P(y|w, x, z)\\\\right)\n",
    "#------------------------------------------\n",
    "#expected input: ID({'Y_1', 'Y_2'}, {'X'}, G2, verbose=False)\n",
    "#expected output: \\sum_{w_2}P(w_2)P(y_2|w_2)\\\\left(\\sum_{w_1}P(w_1)P(y_1|w_1, x)\\\\right)\n",
    "#------------------------------------------\n",
    "#expected input: ID({'Y_1', 'Y_2'}, {'X'}, G2b, verbose=False)\n",
    "#expected output: Hedge found\n",
    "#------------------------------------------\n",
    "#expected input: ID({'Y'}, {'X'}, G3a, cond={'Z'}, verbose=False)\n",
    "#expected output: P(y|x, z)\n",
    "#------------------------------------------\n",
    "#expected input: ID({'Y'}, {'X'}, G3b, verbose=False)\n",
    "#expected output: P(y)\n",
    "#------------------------------------------\n",
    "#expected input: ID({'W'}, {'X'}, G3c, cond = {'Z'}, verbose=False)\n",
    "#expected output: Hedge found\n",
    "#------------------------------------------\n",
    "#expected input: ID({'Y', 'Z_1', 'Z_2', 'Z_3'}, {'X'}, G7, verbose=False)\n",
    "#expected output: P(z_1|x, z_2)P(z_3|z_2)\\left(\\sum_{x, y, z_3}P(x|z_2)P(y|x, z_1, z_2, z_3)P(z_2)P(z_3|x, z_2)\\right)\\frac{\\left(\\sum_{x}P(x|z_2)P(y|x, z_1, z_2, z_3)P(z_2)P(z_3|x, z_2)\\right)}{\\sum_{x, y}P(x|z_2)P(y|x, z_1, z_2, z_3)P(z_2)P(z_3|x, z_2)}\n",
    "#------------------------------------------\n",
    "#expected input: ID({'Y'}, {'X', 'W'}, G8, verbose=False)\n",
    "#expected output: P(y|w, x, z)\n",
    "#------------------------------------------\n",
    "\n",
    "Prob = ID({'Y'}, {'X', 'W'}, G8, verbose=False)\n",
    "\n",
    "print(Prob.printLatex(simplify=True, complete_simplification=True))\n"
   ]
  },
  {
   "cell_type": "code",
   "execution_count": null,
   "metadata": {},
   "outputs": [],
   "source": []
  }
 ],
 "metadata": {
  "kernelspec": {
   "display_name": "Python 3",
   "language": "python",
   "name": "python3"
  },
  "language_info": {
   "codemirror_mode": {
    "name": "ipython",
    "version": 3
   },
   "file_extension": ".py",
   "mimetype": "text/x-python",
   "name": "python",
   "nbconvert_exporter": "python",
   "pygments_lexer": "ipython3",
   "version": "3.7.0"
  }
 },
 "nbformat": 4,
 "nbformat_minor": 2
}